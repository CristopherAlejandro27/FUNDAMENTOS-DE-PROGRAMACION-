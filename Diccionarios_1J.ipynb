{
  "metadata": {
    "kernelspec": {
      "name": "python",
      "display_name": "Python (Pyodide)",
      "language": "python"
    },
    "language_info": {
      "codemirror_mode": {
        "name": "python",
        "version": 3
      },
      "file_extension": ".py",
      "mimetype": "text/x-python",
      "name": "python",
      "nbconvert_exporter": "python",
      "pygments_lexer": "ipython3",
      "version": "3.8"
    }
  },
  "nbformat_minor": 5,
  "nbformat": 4,
  "cells": [
    {
      "id": "305435c3-847c-4af7-a0d9-1692bc0ab92a",
      "cell_type": "code",
      "source": "Edades = {\n    \"Brayan\": 25,\n    \"Luis\": 30,\n    \"José\": 22\n}\nprint(\"Edad de Luis:\", Edades[\"Luis\"])    \nEdades[\"Pedro\"] = 28\nprint(\"\\nDespués de añadir a Pedro:\")\nprint(Edades)                               \n\nEdades[\"Luis\"] = 26\nprint(\"\\nDespués de actualizar la edad de Luis:\")\nprint(Edades)                              \n\ndel Edades[\"José\"]\nprint(\"\\nDespués de eliminar a José:\")\nprint(Edades)                               \n\nprint(\"\\nRecorriendo el diccionario:\")\nfor nombre, Edad in Edades.items():         \n     print(f\"{nombre} tiene {Edad} años\")\n",
      "metadata": {
        "trusted": true
      },
      "outputs": [
        {
          "name": "stdout",
          "output_type": "stream",
          "text": "Edad de Luis: 30\n\nDespués de añadir a Pedro:\n{'Brayan': 25, 'Luis': 30, 'José': 22, 'Pedro': 28}\n\nDespués de actualizar la edad de Luis:\n{'Brayan': 25, 'Luis': 26, 'José': 22, 'Pedro': 28}\n\nDespués de eliminar a José:\n{'Brayan': 25, 'Luis': 26, 'Pedro': 28}\n\nRecorriendo el diccionario:\nBrayan tiene 25 años\nLuis tiene 26 años\nPedro tiene 28 años\n"
        }
      ],
      "execution_count": 1
    },
    {
      "id": "675c10f6-142d-48dc-985f-0a29073511f7",
      "cell_type": "code",
      "source": "",
      "metadata": {
        "trusted": true
      },
      "outputs": [],
      "execution_count": null
    }
  ]
}