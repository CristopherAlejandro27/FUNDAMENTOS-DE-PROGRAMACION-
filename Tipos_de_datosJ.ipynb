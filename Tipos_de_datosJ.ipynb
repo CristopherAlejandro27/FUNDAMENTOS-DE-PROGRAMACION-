{
  "metadata": {
    "kernelspec": {
      "name": "python",
      "display_name": "Python (Pyodide)",
      "language": "python"
    },
    "language_info": {
      "codemirror_mode": {
        "name": "python",
        "version": 3
      },
      "file_extension": ".py",
      "mimetype": "text/x-python",
      "name": "python",
      "nbconvert_exporter": "python",
      "pygments_lexer": "ipython3",
      "version": "3.8"
    }
  },
  "nbformat_minor": 5,
  "nbformat": 4,
  "cells": [
    {
      "id": "07578ca2-7715-4141-b0ea-5b6c048a4442",
      "cell_type": "code",
      "source": "entero = 10\nflotante = 3.14\ncadena = \"Cristo\"\nbooleana = True\n\nprint(entero)\nprint(flotante)\nprint(cadena)\nprint(booleana)",
      "metadata": {
        "trusted": true
      },
      "outputs": [
        {
          "name": "stdout",
          "output_type": "stream",
          "text": "10\n3.14\n"
        }
      ],
      "execution_count": 1
    },
    {
      "id": "46d3028a-943e-4e8f-bc41-d9b6d8ba8a5d",
      "cell_type": "code",
      "source": "",
      "metadata": {
        "trusted": true
      },
      "outputs": [],
      "execution_count": null
    }
  ]
}