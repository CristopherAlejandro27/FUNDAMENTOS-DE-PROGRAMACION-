{
  "metadata": {
    "kernelspec": {
      "name": "python",
      "display_name": "Python (Pyodide)",
      "language": "python"
    },
    "language_info": {
      "codemirror_mode": {
        "name": "python",
        "version": 3
      },
      "file_extension": ".py",
      "mimetype": "text/x-python",
      "name": "python",
      "nbconvert_exporter": "python",
      "pygments_lexer": "ipython3",
      "version": "3.8"
    }
  },
  "nbformat_minor": 5,
  "nbformat": 4,
  "cells": [
    {
      "id": "b0be0db5-8936-4ae4-9f51-4c99aeb81d76",
      "cell_type": "code",
      "source": "for i in range (1,5):\n    print (\"Número\", i)\n",
      "metadata": {
        "trusted": true
      },
      "outputs": [
        {
          "name": "stdout",
          "output_type": "stream",
          "text": "Número 1\nNúmero 2\nNúmero 3\nNúmero 4\n"
        }
      ],
      "execution_count": 7
    },
    {
      "id": "ad62fb89-99f0-4229-847b-e96f752cdcab",
      "cell_type": "code",
      "source": "suma = 0\n\nfor i in range(1, 11):  \n    suma += i\n\nprint(\"La suma de los primeros 10 números es:\", suma)",
      "metadata": {
        "trusted": true
      },
      "outputs": [
        {
          "name": "stdout",
          "output_type": "stream",
          "text": "La suma de los primeros 10 números es: 55\n"
        }
      ],
      "execution_count": 23
    },
    {
      "id": "d8c815fa-de92-4362-9714-6b8aaf6c0093",
      "cell_type": "code",
      "source": "nombres = (\"Ed\", \"Jorge\", \"María\", \"Luisa\")\n\nfor nombre in nombres:\n    print(\"Hola,\", nombre)",
      "metadata": {
        "trusted": true
      },
      "outputs": [
        {
          "name": "stdout",
          "output_type": "stream",
          "text": "Hola, Ed\nHola, Jorge\nHola, María\nHola, Luisa\n"
        }
      ],
      "execution_count": 25
    },
    {
      "id": "c3f642ba-3d93-414a-bd56-2edd9d327e9a",
      "cell_type": "code",
      "source": "Cumple = int(input(\"¿Cuál es tu edad?\"))\nfor i in range(1, Cumple):\n   print(\"Feliz cumpleaños número\",i)",
      "metadata": {
        "trusted": true
      },
      "outputs": [
        {
          "output_type": "stream",
          "name": "stdin",
          "text": "¿Cuál es tu edad? 1\n"
        }
      ],
      "execution_count": 30
    },
    {
      "id": "16a78fb3-68b0-4d3b-9b61-651b5fb6c4e1",
      "cell_type": "code",
      "source": "#Hacer que con un input se agregue la edad\nopcion = int(input(\"Opcion\")) \n\nif opcion == 1:\n    print(\"Has elegido guardar el archivo\")\nelif opcion == 2:\n    print(\"Has elegido abrir un archivo\")\nelif opcion == 3:\n    print(\"Has elegido salir del programa\")\nelse:\n    print(\"Opción no válida\")",
      "metadata": {
        "trusted": true
      },
      "outputs": [
        {
          "output_type": "stream",
          "name": "stdin",
          "text": "Opcion 8\n"
        },
        {
          "name": "stdout",
          "output_type": "stream",
          "text": "Opción no válida\n"
        }
      ],
      "execution_count": 42
    },
    {
      "id": "0a90a3a9-df09-43c6-be8e-c4696b689dea",
      "cell_type": "code",
      "source": "#Hacer que con un input se agregue la calificación\ncalificacion =int(input(\"calificacion\"))\n\nif calificacion >= 90:\n    print(\"Excelente\")\nelif calificacion >= 70:\n    print(\"Aprobado\")\nelse:\n    print(\"Reprobado\")",
      "metadata": {
        "trusted": true
      },
      "outputs": [
        {
          "output_type": "stream",
          "name": "stdin",
          "text": "calificacion 50\n"
        },
        {
          "name": "stdout",
          "output_type": "stream",
          "text": "Reprobado\n"
        }
      ],
      "execution_count": 2
    },
    {
      "id": "da7b760e-6c84-4e69-b09c-357bbba81863",
      "cell_type": "code",
      "source": "numero_secreto = 7\nadivinanza = 0\n\nwhile adivinanza != numero_secreto:\n    adivinanza = int(input(\"Adivina el número (1-10): \"))\n\nprint(\"¡Correcto! El número era\", numero_secreto)\n     ",
      "metadata": {
        "trusted": true
      },
      "outputs": [
        {
          "output_type": "stream",
          "name": "stdin",
          "text": "Adivina el número (1-10):  7\n"
        },
        {
          "name": "stdout",
          "output_type": "stream",
          "text": "¡Correcto! El número era 7\n"
        }
      ],
      "execution_count": 4
    },
    {
      "id": "0b9bfed6-ae7a-4e29-ae6f-cac6f4553612",
      "cell_type": "code",
      "source": "contador = 1\n\nwhile contador <= 5:\n    print(\"Número:\", contador)\n    contador += 1  # incrementa el contador",
      "metadata": {
        "trusted": true
      },
      "outputs": [
        {
          "name": "stdout",
          "output_type": "stream",
          "text": "Número: 1\nNúmero: 2\nNúmero: 3\nNúmero: 4\nNúmero: 5\n"
        }
      ],
      "execution_count": 5
    },
    {
      "id": "6f8630ee-7cda-4cac-84dc-e2bfbbfe0d96",
      "cell_type": "code",
      "source": "",
      "metadata": {
        "trusted": true
      },
      "outputs": [],
      "execution_count": null
    }
  ]
}