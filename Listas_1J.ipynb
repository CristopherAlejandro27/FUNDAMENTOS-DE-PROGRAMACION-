{
  "metadata": {
    "kernelspec": {
      "name": "python",
      "display_name": "Python (Pyodide)",
      "language": "python"
    },
    "language_info": {
      "codemirror_mode": {
        "name": "python",
        "version": 3
      },
      "file_extension": ".py",
      "mimetype": "text/x-python",
      "name": "python",
      "nbconvert_exporter": "python",
      "pygments_lexer": "ipython3",
      "version": "3.8"
    }
  },
  "nbformat_minor": 5,
  "nbformat": 4,
  "cells": [
    {
      "id": "f1750d1a-d872-42d8-b4a8-98ca8596d6c0",
      "cell_type": "code",
      "source": "#lista de alumnos.\nlista = [\"Juan\",\"Ivan\",\"Adrian\",\"Jair\" ]\nprint (lista)\n#Añade un elemento al final de la lista.\nprint(lista[2])\n#Inserta un ítem en una posición dada. El primer argumento es el índice del ítem delante del cual se ínsertará.\nlista.append (\"Alexa\")\nprint (lista)\nlista.insert (1,\"Javier\")\nprint (lista)\n\nlista.remove(\"Juan\")\n#Elimina el elemento de la posición indicada en la lista y lo devuelve.\nlista.pop(1)\n",
      "metadata": {
        "trusted": true
      },
      "outputs": [
        {
          "name": "stdout",
          "output_type": "stream",
          "text": "['Juan', 'Ivan', 'Adrian', 'Jair']\nAdrian\n['Juan', 'Ivan', 'Adrian', 'Jair', 'Alexa']\n['Juan', 'Javier', 'Ivan', 'Adrian', 'Jair', 'Alexa']\n"
        },
        {
          "execution_count": 1,
          "output_type": "execute_result",
          "data": {
            "text/plain": "'Ivan'"
          },
          "metadata": {}
        }
      ],
      "execution_count": 1
    },
    {
      "id": "a0744d98-1ee6-4801-a387-726cae135607",
      "cell_type": "code",
      "source": "",
      "metadata": {
        "trusted": true
      },
      "outputs": [],
      "execution_count": null
    }
  ]
}